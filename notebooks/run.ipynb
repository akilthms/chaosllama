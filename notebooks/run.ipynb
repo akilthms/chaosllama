{
 "cells": [
  {
   "cell_type": "code",
   "execution_count": 0,
   "metadata": {
    "application/vnd.databricks.v1+cell": {
     "cellMetadata": {
      "byteLimit": 2048000,
      "rowLimit": 10000
     },
     "inputWidgets": {},
     "nuid": "6d54c821-bbb1-400e-8baf-2f0ea3b015b2",
     "showTitle": false,
     "tableResultSettingsMap": {},
     "title": ""
    }
   },
   "outputs": [],
   "source": [
    "%pip install -r ../requirements.txt\n",
    "dbutils.library.restartPython()"
   ]
  },
  {
   "cell_type": "code",
   "execution_count": 0,
   "metadata": {
    "application/vnd.databricks.v1+cell": {
     "cellMetadata": {
      "byteLimit": 2048000,
      "rowLimit": 10000
     },
     "inputWidgets": {},
     "nuid": "74129339-3bab-48df-a0f8-404347f05c57",
     "showTitle": false,
     "tableResultSettingsMap": {},
     "title": ""
    }
   },
   "outputs": [],
   "source": [
    "%load_ext autoreload\n",
    "%autoreload 2"
   ]
  },
  {
   "cell_type": "code",
   "execution_count": 0,
   "metadata": {
    "application/vnd.databricks.v1+cell": {
     "cellMetadata": {
      "byteLimit": 2048000,
      "rowLimit": 10000
     },
     "inputWidgets": {},
     "nuid": "89391ae0-8f7c-4cf9-b6db-ee4ab6690673",
     "showTitle": false,
     "tableResultSettingsMap": {},
     "title": ""
    }
   },
   "outputs": [],
   "source": [
    "import sys\n",
    "import os\n",
    "sys.path.append(os.path.abspath('../chaosllama'))\n",
    "os.chdir(os.path.abspath('../'))\n",
    "print(os.getcwd())"
   ]
  },
  {
   "cell_type": "code",
   "execution_count": 0,
   "metadata": {
    "application/vnd.databricks.v1+cell": {
     "cellMetadata": {
      "byteLimit": 2048000,
      "rowLimit": 10000
     },
     "inputWidgets": {},
     "nuid": "526c52fd-33d5-4219-a2f6-d7489d91c914",
     "showTitle": false,
     "tableResultSettingsMap": {},
     "title": ""
    },
    "collapsed": true
   },
   "outputs": [],
   "source": [
    "from chaosllama.chaos import ChaosLlama, ChaosLlamaServicesConfig\n",
    "from chaosllama.entities.models import AgentConfig\n",
    "from chaosllama.services import genie, mosaic, unity_catalog, judges\n",
    "from chaosllama.services.evaluation_dataset import EvalSetManager\n",
    "from chaosllama.profiles.config import config\n",
    "from chaosllama.services.tracking import MLFlowExperimentManager\n",
    "from chaosllama.scorers.scorers import eval_sql_clauses_distro, eval_query_results\n",
    "import chaosllama.prompts.registry as prompt_registry\n",
    "import pyfiglet\n",
    "import rich\n",
    "from rich.console import Console"
   ]
  },
  {
   "cell_type": "code",
   "execution_count": 0,
   "metadata": {
    "application/vnd.databricks.v1+cell": {
     "cellMetadata": {
      "byteLimit": 2048000,
      "rowLimit": 10000
     },
     "inputWidgets": {},
     "nuid": "d25b58e9-8bb0-46ec-816b-026cd8872cdb",
     "showTitle": false,
     "tableResultSettingsMap": {},
     "title": ""
    }
   },
   "outputs": [],
   "source": [
    "# 🪵Logging Configuration\n",
    "# TODO: Add logging configuration\n",
    "\n",
    "banner = pyfiglet.figlet_format(\"Chaos Llama 🦙\")\n",
    "print(banner)\n",
    "\n",
    "# 🧑‍🍳 Prepare Evaluation Data Set\n",
    "evmngr = EvalSetManager(\n",
    "    table_name=f\"{config.CATALOG}.{config.SCHEMA}.{config.EVAL_TABLE_NAME}\",\n",
    "    limit=config.runtime.LIMIT,\n",
    "    consistency_factor=config.runtime.CONSISTENCY_FACTOR\n",
    ")\n",
    "\n",
    "evmngr.prepare_evals(mode=\"existing\")\n",
    "# evmngr.write_evalset()\n",
    "\n",
    "# 🧑‍🔬Set MLFLow Experiment\n",
    "exp_mngr = MLFlowExperimentManager(experiment_path=config.mlflow.MLFLOW_EXPERIMENT_PATH).get_or_create_mlflow_experiment(config.mlflow.MLFLOW_RUNTIME_EXPERIMENT)\n",
    "\n",
    "# =========Configure Services=============\n",
    "#🧑‍⚖️Judges - Manages custom judges \n",
    "jmngr = judges.JudgeService(scorers=[eval_sql_clauses_distro,eval_query_results]) \n",
    "# 🧪Mosaic Evaluations - Manages MLFlow Experiments\n",
    "mlfmngr = mosaic.MosaicEvalService(eval_manager=evmngr,judge_manager=jmngr, experiment_id=exp_mngr.experiment_id) \n",
    "# 🧞‍♂️Genie Service - Manages Interactions with Genie\n",
    "gmngr = genie.GenieService(space_id=config.genie.RUNTIME_GENIE_SPACE_ID) \n",
    "# 🤝 Unity Catalog Manager - Manages Interactions with UC \n",
    "ucmngr = unity_catalog.UCService(catalog=config.CATALOG, schema=config.SCHEMA) \n",
    "# =========================================\n",
    "\n",
    "agent_config = AgentConfig(\n",
    "        system_prompt=prompt_registry.INSTROSPECT_PROMPT_V3,\n",
    "        endpoint=config.runtime.INTROSPECT_AGENT_LLM_ENDPOINT,\n",
    "        llm_parameters={\"temperature\": 0.0, \"max_tokens\": config.runtime.MAX_TOKENS},\n",
    ")\n",
    "\n",
    "# ⚙️🦙Configure Chaos Llama\n",
    "chaos_config = ChaosLlamaServicesConfig(\n",
    "    mlflow_manager=mlfmngr,\n",
    "    genie_manager=gmngr,\n",
    "    uc_manager=ucmngr,\n",
    "    agent_config=agent_config\n",
    ")\n",
    "\n",
    "chaos_llama = ChaosLlama(config=chaos_config)\n",
    "\n",
    "data_intelligence, mlflow_parent_run = chaos_llama.run(\n",
    "    epochs=config.runtime.EPOCHS,\n",
    "    is_test=config.runtime.DEBUG,\n",
    "    is_cached=config.runtime.IS_CACHED,\n",
    "    run_baseline=config.runtime.RUN_BASELINE,\n",
    "    run_null_hypothesis=config.runtime.RUN_NULL_HYPOTHESIS,\n",
    ")"
   ]
  }
 ],
 "metadata": {
  "application/vnd.databricks.v1+notebook": {
   "computePreferences": null,
   "dashboards": [],
   "environmentMetadata": null,
   "inputWidgetPreferences": null,
   "language": "python",
   "notebookMetadata": {
    "pythonIndentUnit": 4
   },
   "notebookName": "run",
   "widgets": {}
  },
  "kernelspec": {
   "display_name": "Python 3",
   "language": "python",
   "name": "python3"
  },
  "language_info": {
   "name": "python"
  }
 },
 "nbformat": 4,
 "nbformat_minor": 0
}
