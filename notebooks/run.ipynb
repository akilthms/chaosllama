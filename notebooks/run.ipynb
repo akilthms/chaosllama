{
 "cells": [
  {
   "cell_type": "code",
   "execution_count": null,
   "id": "initial_id",
   "metadata": {
    "collapsed": true
   },
   "outputs": [],
   "source": [
    "from chaosllama.chaos import ChaosLlama, ChaosLlamaServicesConfig\n",
    "from chaosllama.entities.models import AgentConfig\n",
    "from chaosllama.services import genie, mosaic, unity_catalog, judges\n",
    "from chaosllama.services.evaluation_dataset import EvalSetManager\n",
    "from chaosllama.profiles.config import config\n",
    "from chaosllama.services.tracking import MLFlowExperimentManager\n",
    "from chaosllama.scorers.scorers import eval_sql_clauses_distro, eval_query_results\n",
    "import chaosllama.prompts.registry as prompt_registry\n",
    "import pyfiglet\n",
    "import rich\n",
    "from rich.console import Console"
   ]
  },
  {
   "metadata": {},
   "cell_type": "code",
   "outputs": [],
   "execution_count": null,
   "source": "",
   "id": "162819139f31298"
  }
 ],
 "metadata": {
  "kernelspec": {
   "display_name": "Python 3",
   "language": "python",
   "name": "python3"
  },
  "language_info": {
   "codemirror_mode": {
    "name": "ipython",
    "version": 2
   },
   "file_extension": ".py",
   "mimetype": "text/x-python",
   "name": "python",
   "nbconvert_exporter": "python",
   "pygments_lexer": "ipython2",
   "version": "2.7.6"
  }
 },
 "nbformat": 4,
 "nbformat_minor": 5
}
